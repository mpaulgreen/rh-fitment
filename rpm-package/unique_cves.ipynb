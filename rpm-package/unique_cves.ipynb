{
 "cells": [
  {
   "cell_type": "code",
   "execution_count": 1,
   "id": "bfd7a8d3-6709-44eb-81c9-cb4f78a54810",
   "metadata": {},
   "outputs": [
    {
     "name": "stdout",
     "output_type": "stream",
     "text": [
      "543\n"
     ]
    }
   ],
   "source": [
    "# Filter distinct CVEs for known_affected extractd data\n",
    "import pandas as pd\n",
    "\n",
    "# Load the Excel file\n",
    "file_path = 'rpm_package_vulnerabilities_1.xlsx'  # Replace with the path to your Excel file\n",
    "sheet_name = 'sheet1'  # Replace with the name of your sheet\n",
    "\n",
    "# Read the Excel file into a DataFrame\n",
    "df = pd.read_excel(file_path, sheet_name=sheet_name)\n",
    "\n",
    "# Extract distinct CVEs\n",
    "distinct_cves = df['CVE'].drop_duplicates()\n",
    "cves1 = distinct_cves.tolist()\n",
    "# Number of distinct CVEs\n",
    "print(len(distinct_cves))"
   ]
  },
  {
   "cell_type": "code",
   "execution_count": 2,
   "id": "d90ea914-fc57-413c-9fec-917446d3bbee",
   "metadata": {},
   "outputs": [
    {
     "name": "stdout",
     "output_type": "stream",
     "text": [
      "797\n"
     ]
    }
   ],
   "source": [
    "# Load the Excel file\n",
    "file_path = 'rpm_package_vulnerabilities_2.xlsx'  # Replace with the path to your Excel file\n",
    "sheet_name = 'sheet1'  # Replace with the name of your sheet\n",
    "\n",
    "# Read the Excel file into a DataFrame\n",
    "df = pd.read_excel(file_path, sheet_name=sheet_name)\n",
    "\n",
    "# Extract distinct CVEs\n",
    "distinct_cves = df['CVE'].drop_duplicates()\n",
    "cves2 = distinct_cves.tolist()\n",
    "# Number of distinct CVEs\n",
    "print(len(distinct_cves))"
   ]
  },
  {
   "cell_type": "code",
   "execution_count": 3,
   "id": "156caa05-cc4f-4a5d-8a7a-5796cddf19a1",
   "metadata": {},
   "outputs": [
    {
     "name": "stdout",
     "output_type": "stream",
     "text": [
      "542\n"
     ]
    }
   ],
   "source": [
    "# Load the Excel file\n",
    "file_path = 'rpm_package_vulnerabilities_3.xlsx'  # Replace with the path to your Excel file\n",
    "sheet_name = 'sheet1'  # Replace with the name of your sheet\n",
    "\n",
    "# Read the Excel file into a DataFrame\n",
    "df = pd.read_excel(file_path, sheet_name=sheet_name)\n",
    "\n",
    "# Extract distinct CVEs\n",
    "distinct_cves = df['CVE'].drop_duplicates()\n",
    "cves3 = distinct_cves.tolist()\n",
    "# Number of distinct CVEs\n",
    "print(len(distinct_cves))"
   ]
  },
  {
   "cell_type": "code",
   "execution_count": 4,
   "id": "c68af3e3-384e-4a8c-ab40-f1349c904b5d",
   "metadata": {},
   "outputs": [
    {
     "name": "stdout",
     "output_type": "stream",
     "text": [
      "1199\n"
     ]
    }
   ],
   "source": [
    "# Load the Excel file\n",
    "file_path = 'rpm_package_vulnerabilities_4.xlsx'  # Replace with the path to your Excel file\n",
    "sheet_name = 'sheet1'  # Replace with the name of your sheet\n",
    "\n",
    "# Read the Excel file into a DataFrame\n",
    "df = pd.read_excel(file_path, sheet_name=sheet_name)\n",
    "\n",
    "# Extract distinct CVEs\n",
    "distinct_cves = df['CVE'].drop_duplicates()\n",
    "cves4 = distinct_cves.tolist()\n",
    "# Number of distinct CVEs\n",
    "print(len(distinct_cves))"
   ]
  },
  {
   "cell_type": "code",
   "execution_count": 5,
   "id": "7daf1b0f-d300-45ce-b2f3-3691be331fab",
   "metadata": {},
   "outputs": [
    {
     "name": "stdout",
     "output_type": "stream",
     "text": [
      "2177\n"
     ]
    }
   ],
   "source": [
    "# Load the Excel file\n",
    "file_path = 'rpm_package_vulnerabilities_5.xlsx'  # Replace with the path to your Excel file\n",
    "sheet_name = 'sheet1'  # Replace with the name of your sheet\n",
    "\n",
    "# Read the Excel file into a DataFrame\n",
    "df = pd.read_excel(file_path, sheet_name=sheet_name)\n",
    "\n",
    "# Extract distinct CVEs\n",
    "distinct_cves = df['CVE'].drop_duplicates()\n",
    "cves5 = distinct_cves.tolist()\n",
    "# Number of distinct CVEs\n",
    "print(len(distinct_cves))"
   ]
  },
  {
   "cell_type": "code",
   "execution_count": 8,
   "id": "d9b07735-302f-4885-8a71-16beb40d773d",
   "metadata": {},
   "outputs": [
    {
     "name": "stdout",
     "output_type": "stream",
     "text": [
      "2369\n"
     ]
    }
   ],
   "source": [
    "# Combine all lists into a single list\n",
    "combined_cves = cves1 + cves2 + cves3 + cves4 + cves5\n",
    "\n",
    "# Use a set to remove duplicates\n",
    "unique_cves = set(combined_cves)\n",
    "\n",
    "# Convert the set back to a list (if needed)\n",
    "unique_cves_list = list(unique_cves)\n",
    "\n",
    "# Find the length of the unique CVEs list\n",
    "length_unique_cves = len(unique_cves_list)\n",
    "print(length_unique_cves)"
   ]
  },
  {
   "cell_type": "code",
   "execution_count": null,
   "id": "d7f633e2-72f1-4830-a467-10c5a59e8a42",
   "metadata": {},
   "outputs": [],
   "source": []
  }
 ],
 "metadata": {
  "kernelspec": {
   "display_name": "Python 3 (ipykernel)",
   "language": "python",
   "name": "python3"
  },
  "language_info": {
   "codemirror_mode": {
    "name": "ipython",
    "version": 3
   },
   "file_extension": ".py",
   "mimetype": "text/x-python",
   "name": "python",
   "nbconvert_exporter": "python",
   "pygments_lexer": "ipython3",
   "version": "3.12.8"
  }
 },
 "nbformat": 4,
 "nbformat_minor": 5
}
