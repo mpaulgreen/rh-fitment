{
 "cells": [
  {
   "cell_type": "code",
   "execution_count": null,
   "id": "862fda3c-5794-453d-a7fd-ad108c7c28be",
   "metadata": {},
   "outputs": [],
   "source": [
    "# References - https://www.redhat.com/en/blog/gathering-security-data-container-images-using-pyxis-api"
   ]
  },
  {
   "cell_type": "code",
   "execution_count": null,
   "id": "bcc7eb6f-2efb-435c-bdbd-c4bb82db7d94",
   "metadata": {},
   "outputs": [],
   "source": [
    "import pandas as pd\n",
    "\n",
    "# Load the Excel sheet into a DataFrame\n",
    "df = pd.read_excel('known_affected.xlsx') # You can load any dataset. This dataset has been used as this lacked SHAs of known_affected packages\n",
    "# Extract distinct package names\n",
    "distinct_packages = df['package'].unique().tolist()"
   ]
  },
  {
   "cell_type": "code",
   "execution_count": null,
   "id": "b180210a-f9f5-4036-a617-30eac3f63a2c",
   "metadata": {},
   "outputs": [],
   "source": [
    "PYXIS_URL=\"https://catalog.redhat.com/api/containers/v1\""
   ]
  },
  {
   "cell_type": "code",
   "execution_count": null,
   "id": "5f960600-b97b-4a56-9ec9-52d41622692b",
   "metadata": {},
   "outputs": [],
   "source": [
    "import requests\n",
    "\n",
    "# Initialize lists\n",
    "packages = []\n",
    "cves = []\n",
    "shas = []\n",
    "\n",
    "for package in distinct_packages:\n",
    "    endpoint = f\"{PYXIS_URL}/repositories/registry/registry.access.redhat.com/repository/{package}/images?page_size=500&sort_by=creation_date[desc]\"\n",
    "    r = requests.get(endpoint)\n",
    "    images = r.json()['data']    \n",
    "    for image in images:\n",
    "        try:\n",
    "            image_id = image[\"_id\"]\n",
    "            vul_url = f\"{PYXIS_URL}/images/id/{image_id}/vulnerabilities\"\n",
    "            \n",
    "            # Make the request with a timeout\n",
    "            response = requests.get(vul_url)\n",
    "            response.raise_for_status()  # Raise an exception for HTTP errors\n",
    "            \n",
    "            # Parse JSON and check if data exists\n",
    "            vulnerabilities = response.json().get('data', [])\n",
    "            if not vulnerabilities:\n",
    "                continue  # Skip if no vulnerabilities found\n",
    "            \n",
    "            # Extract data and append to lists\n",
    "            for vulnerability in vulnerabilities:\n",
    "                packages.append(package) \n",
    "                cves.append(vulnerability.get('cve_id', 'N/A'))  # Default to 'N/A' if 'cve_id' is missing\n",
    "                shas.append(image.get('docker_image_id', 'N/A'))  # Default to 'N/A' if 'docker_image_id' is missing\n",
    "        \n",
    "        except requests.exceptions.RequestException as e:\n",
    "            print(f\"Request failed for image {image_id}: {e}\")\n",
    "        except KeyError as e:\n",
    "            print(f\"Missing key in response for image {image_id}: {e}\")\n",
    "        except ValueError as e:\n",
    "            print(f\"Invalid JSON response for image {image_id}: {e}\")\n",
    "len(packages), len(cves), len(shas)"
   ]
  },
  {
   "cell_type": "code",
   "execution_count": 9,
   "id": "cfb44287-3b77-4365-b94f-b18619cb8077",
   "metadata": {},
   "outputs": [],
   "source": [
    "packages1 = packages[:800000]\n",
    "cves1 = cves[:800000]\n",
    "shas1 = shas[:800000]\n",
    "from pandas import DataFrame\n",
    "df = DataFrame({'CVE': cves1, 'package': packages1,  'tag': shas1})\n",
    "df.to_excel('rpm_package_vulnerabilities_1.xlsx', sheet_name='sheet1', index=False)"
   ]
  },
  {
   "cell_type": "code",
   "execution_count": 10,
   "id": "a4df8e81-d5f1-4de3-9379-4f65a7d55896",
   "metadata": {},
   "outputs": [],
   "source": [
    "packages2 = packages[800000:1600000]\n",
    "cves2 = cves[800000:1600000]\n",
    "shas2 = shas[800000:1600000]\n",
    "\n",
    "from pandas import DataFrame\n",
    "df = DataFrame({'CVE': cves2, 'package': packages2,  'tag': shas2})\n",
    "df.to_excel('rpm_package_vulnerabilities_2.xlsx', sheet_name='sheet1', index=False)"
   ]
  },
  {
   "cell_type": "code",
   "execution_count": 11,
   "id": "0ad49f6e-a890-43b7-adf1-11f6c50a3c35",
   "metadata": {},
   "outputs": [],
   "source": [
    "packages3 = packages[1600001:2400000]\n",
    "cves3 = cves[1600001:2400000]\n",
    "shas3 = shas[1600001:2400000]\n",
    "\n",
    "from pandas import DataFrame\n",
    "df = DataFrame({'CVE': cves3, 'package': packages3,  'tag': shas3})\n",
    "df.to_excel('rpm_package_vulnerabilities_3.xlsx', sheet_name='sheet1', index=False)"
   ]
  },
  {
   "cell_type": "code",
   "execution_count": 12,
   "id": "c83934e9-15e8-449e-9e70-3f6ff0bdf90e",
   "metadata": {},
   "outputs": [],
   "source": [
    "packages4 = packages[2400001:3200000]\n",
    "cves4 = cves[2400001:3200000]\n",
    "shas4 = shas[2400001:3200000]\n",
    "\n",
    "from pandas import DataFrame\n",
    "df = DataFrame({'CVE': cves4, 'package': packages4,  'tag': shas4})\n",
    "df.to_excel('rpm_package_vulnerabilities_4.xlsx', sheet_name='sheet1', index=False)"
   ]
  },
  {
   "cell_type": "code",
   "execution_count": 13,
   "id": "8f2d23d6-2989-465e-bb95-10106118a843",
   "metadata": {},
   "outputs": [],
   "source": [
    "packages5 = packages[3200001:]\n",
    "cves5 = cves[3200001:]\n",
    "shas5 = shas[3200001:]\n",
    "\n",
    "from pandas import DataFrame\n",
    "df = DataFrame({'CVE': cves5, 'package': packages5,  'tag': shas5})\n",
    "df.to_excel('rpm_package_vulnerabilities_5.xlsx', sheet_name='sheet1', index=False)"
   ]
  },
  {
   "cell_type": "code",
   "execution_count": null,
   "id": "12d507f1-e78a-475a-88b1-9c338bac4222",
   "metadata": {},
   "outputs": [],
   "source": []
  }
 ],
 "metadata": {
  "kernelspec": {
   "display_name": "Python 3 (ipykernel)",
   "language": "python",
   "name": "python3"
  },
  "language_info": {
   "codemirror_mode": {
    "name": "ipython",
    "version": 3
   },
   "file_extension": ".py",
   "mimetype": "text/x-python",
   "name": "python",
   "nbconvert_exporter": "python",
   "pygments_lexer": "ipython3",
   "version": "3.12.8"
  }
 },
 "nbformat": 4,
 "nbformat_minor": 5
}
